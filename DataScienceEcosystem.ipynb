{
 "cells": [
  {
   "cell_type": "markdown",
   "id": "e184b275",
   "metadata": {},
   "source": [
    "# Data Science Tools and Ecosystem"
   ]
  },
  {
   "cell_type": "markdown",
   "id": "b644306a",
   "metadata": {},
   "source": [
    "# Introduction\n",
    "\n",
    "In this notebook, we will provide a concise summary of the key tools and components within the data science ecosystem, offering a comprehensive overview of the essential resources for data scientists.\n",
    "\n"
   ]
  },
  {
   "cell_type": "markdown",
   "id": "80d2773e",
   "metadata": {},
   "source": [
    "# Data science languages\n",
    "\n",
    "\n",
    "Some of the popular languages that Data Scientists use are:\n",
    "\n",
    "1. **Python**: Python is one of the most widely used programming languages in data science due to its extensive libraries, such as NumPy, Pandas, and scikit-learn, making it versatile for data analysis, machine learning, and visualization.\n",
    "\n",
    "2. **R**: R is a specialized language for statistics and data analysis. It provides a wide range of packages and tools specifically designed for statistical modeling and visualization.\n",
    "\n",
    "3. **SQL (Structured Query Language)**: SQL is essential for working with relational databases, which are commonly used to store and retrieve data for analysis. Data Scientists often use SQL for data extraction, transformation, and querying.\n",
    "\n"
   ]
  },
  {
   "cell_type": "markdown",
   "id": "d72fadef",
   "metadata": {},
   "source": [
    "# Obejectives\n",
    "- Understand the fundamental data science languages and their applications.\n",
    "- Explore the essential data science libraries for data manipulation, analysis, and visualization.\n",
    "- Discover the key data science development environment tools.\n",
    "- Learn how to evaluate and work with arithmetic expressions in Python.\n",
    "- Gain insights into popular data science languages and their ecosystem."
   ]
  },
  {
   "cell_type": "markdown",
   "id": "c4247039",
   "metadata": {},
   "source": [
    "# Data science libraries\n",
    "\n",
    "Some of the commonly used libraries used by Data Scientists include:\n",
    "1. NumPy: NumPy is a fundamental library for numerical and mathematical operations in Python. It provides support for arrays, matrices, and a wide range of mathematical functions.\n",
    "\n",
    "2. Pandas: Pandas is a powerful data manipulation library for data analysis and data cleaning. It introduces two primary data structures, DataFrames and Series, which make it easier to work with structured data.\n",
    "\n",
    "3. scikit-learn: scikit-learn is a machine learning library for Python, offering a wide array of tools for classification, regression, clustering, and more. It's widely used for building and evaluating machine learning models."
   ]
  },
  {
   "cell_type": "markdown",
   "id": "fb5d7f2f",
   "metadata": {},
   "source": [
    "# Data Science Tools\n",
    "\n",
    "| Data Science Tools |\n",
    "|-------------------|\n",
    "| Jupyter Notebook  |\n",
    "| RStudio           |\n",
    "| Visual Studio Code|\n"
   ]
  },
  {
   "cell_type": "markdown",
   "id": "c98857d1",
   "metadata": {},
   "source": [
    "### Arithmetic Expression Examples\n",
    "\n",
    "Below are a few examples of evaluating arithmetic expressions in Python.\n",
    "\n",
    "9+5\n",
    "9*5"
   ]
  },
  {
   "cell_type": "code",
   "execution_count": 2,
   "id": "bb990e30",
   "metadata": {},
   "outputs": [
    {
     "data": {
      "text/plain": [
       "17"
      ]
     },
     "execution_count": 2,
     "metadata": {},
     "output_type": "execute_result"
    }
   ],
   "source": [
    "(3*4)+5\n"
   ]
  },
  {
   "cell_type": "code",
   "execution_count": 3,
   "id": "56083cfa",
   "metadata": {},
   "outputs": [
    {
     "data": {
      "text/plain": [
       "3.3333333333333335"
      ]
     },
     "execution_count": 3,
     "metadata": {},
     "output_type": "execute_result"
    }
   ],
   "source": [
    "200/60"
   ]
  },
  {
   "cell_type": "markdown",
   "id": "3879b358",
   "metadata": {},
   "source": [
    "## AUTHOR\n",
    " Xiangzhou zhang"
   ]
  },
  {
   "cell_type": "code",
   "execution_count": null,
   "id": "3b599900",
   "metadata": {},
   "outputs": [],
   "source": []
  }
 ],
 "metadata": {
  "kernelspec": {
   "display_name": "Python 3 (ipykernel)",
   "language": "python",
   "name": "python3"
  },
  "language_info": {
   "codemirror_mode": {
    "name": "ipython",
    "version": 3
   },
   "file_extension": ".py",
   "mimetype": "text/x-python",
   "name": "python",
   "nbconvert_exporter": "python",
   "pygments_lexer": "ipython3",
   "version": "3.11.5"
  }
 },
 "nbformat": 4,
 "nbformat_minor": 5
}
